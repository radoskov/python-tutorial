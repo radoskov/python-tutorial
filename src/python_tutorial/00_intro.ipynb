{
 "cells": [
  {
   "cell_type": "markdown",
   "metadata": {},
   "source": [
    "For those who don't know, this is what is called a \"Jupyter notebook\". It is kind of like a web page that a mixes code and markdown formatted text. It is divided into \"cells\". Each cell can be either text cell (using markdown format) or code cell, containing executable Python code. When executed, the text cells simply render the formatted text. However, the code cells will actually run the code and print the result below that cell.  \n",
    "\n",
    "Important to keep in mind is that actual Python \"kernel\" is running in the background. Whatever you run, \"stays\" in the kernel (until it is stopped or restarted). For example, if you run a cell defining a variable `a = 3`, you can then use the variable in another cell, e.g., `b = a + 5` (without redefining it in that cell). However, the order of the cells in the document does not matter. What matters is the order in which you execute the cells. Therefore, if you run the cell containing `b = a + 5` before the cell containing `a = 3`, it will throw an error stating that variable `a` does not exist. Likewise, if you execute another cell with `a = 7`, it will rewrite the value of `a` and thus `b = a + 5` will result in `b` having a different value.  \n",
    "Keep this in mind when executing individual cells. My recommendation is to always run the cells in consecutive order and re-run them from the beginning again, if you close a file and open it later.\n",
    "\n",
    "Lastly, we will use the `print()` function heavily. It simply prints whatever is in the brackets. Either a direct value or a result of an operation. E.g., `print(5 + a * 2)` will print `11` below the cell (provided a==3). Multiple prints within the same cell are simply stacked one after another.\n",
    "\n",
    "Because it is \"a live code\", you can also modify it, play with it, to explore the examples yourself. Hopefully, this will help you understand everything more.\n",
    "\n",
    "I hope everything is clear and it will prove useful to you."
   ]
  },
  {
   "cell_type": "markdown",
   "metadata": {},
   "source": [
    "## How to read this \"book\"\n",
    "\n",
    "The book or Python guide is split into lessons and exercises. Lessons are mostly theoretical, though they contain code that you can change and execute to help you understand the lesson.  \n",
    "Exercises are meant to help you practice what you learned in the corresponding lesson."
   ]
  },
  {
   "cell_type": "markdown",
   "metadata": {},
   "source": [
    "## How to run this book  \n",
    "\n",
    "Since you are seeing this notebook, I guess you've already find a way to somehow view it. Nonetheless, here is a way to run it locally on your computer in \"interactive\" mode (since you might be just seeing it on Github as a static page).\n",
    "\n",
    "1) Clone the repo from Github (if you haven't already):\n",
    "```{code-cell}\n",
    "git clone https://github.com/radoskov/python_tutorial\n",
    "```\n",
    "\n",
    "2) CD into the cloned repo and install:\n",
    "```{code-cell}\n",
    "pip install .\n",
    "```\n",
    "\n",
    "3) Run the notebook:\n",
    "```{code-cell}\n",
    "python -m python_tutorial <lesson_number>\n",
    "```\n",
    "\n",
    "Substitute <lesson_number> with the number of the lesson you want to run. Alternatively, you can list all available lessons with:\n",
    "\n",
    "```{code-cell}\n",
    "python -m python_tutorial -l\n",
    "```\n",
    "\n",
    "If you want to the exercises, simply run the command `python -m python_tutorial -e <exercise_number>`."
   ]
  },
  {
   "cell_type": "markdown",
   "metadata": {},
   "source": [
    "## Outline  \n",
    "\n",
    "1) [basics](lessons/01_basics.ipynb) - Basics of Python. This lesson is quite extensive but after that, you should know everything to get you started with Python. Variables, conditionals, loops.  \n",
    "2) [functions](lessons/02_functions.ipynb) - Functions in Python. How to wrap and reuse pieces of code.  \n",
    "3) [classes](lessons/03_classes.ipynb) - Classes in Python. Creating and using classes to bundle related variables and functions together.  \n",
    "4) [packages](lessons/04_packages.ipynb) - Packages in Python. Creating, importing and using packages.  \n",
    "5) [numpy](lessons/05_numpy.ipynb) - NumPy, i.e. \"Numerical Python\" - a library for numerical computations, mostly known for having \"proper\" arrays.  \n",
    "6) [matplotlib](lessons/06_matplotlib.ipynb) - Matplotlib, a plotting library for Python, heavily inspired by Matlab. Allows you to create visualizations of data.  "
   ]
  },
  {
   "cell_type": "markdown",
   "metadata": {},
   "source": [
    "## Exercises\n",
    "1) [basics](exercises/01_basics_ex.ipynb)\n",
    "2) [functions](exercises/02_functions_ex.ipynb)\n",
    "3) [classes](exercises/03_classes_ex.ipynb)\n",
    "4) [packages](exercises/04_packages_ex.ipynb)\n",
    "5) [numpy](exercises/05_numpy_ex.ipynb)\n",
    "6) [matplotlib](exercises/06_matplotlib_ex.ipynb)"
   ]
  }
 ],
 "metadata": {
  "kernelspec": {
   "display_name": "py10",
   "language": "python",
   "name": "python3"
  },
  "language_info": {
   "codemirror_mode": {
    "name": "ipython",
    "version": 3
   },
   "file_extension": ".py",
   "mimetype": "text/x-python",
   "name": "python",
   "nbconvert_exporter": "python",
   "pygments_lexer": "ipython3",
   "version": "3.10.9"
  }
 },
 "nbformat": 4,
 "nbformat_minor": 2
}
