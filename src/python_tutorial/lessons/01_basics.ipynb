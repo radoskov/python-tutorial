{
 "cells": [
  {
   "cell_type": "markdown",
   "metadata": {},
   "source": [
    "# Basic Python concepts  \n",
    "\n",
    "Here, we will go through the most basic concepts of Python. However, some basic exposure to Python and programming in general is expected. That is, this is not a complete beginners Python programming tutorial.\n",
    "It is more in the line of \"guide for those who need to use Python and want to learn it properly with all its intricacies\"."
   ]
  },
  {
   "cell_type": "markdown",
   "metadata": {},
   "source": [
    "## Introduction  \n",
    "\n",
    "Like most other programming languages, Python has some key elements:\n",
    "* variables (holding values of given data types)\n",
    "* arrays (to store multiple values in a single variable)\n",
    "* conditions (to execute different code based on certain conditions)\n",
    "* loops (to iterate through lists, dictionaries, etc.)\n",
    "\n",
    "I will introduce these elements in this tutorial lesson. In later lessons, I will dive much deeper into these elements and introduce more advanced ones.  \n",
    "\n",
    "I thing I will mention in this lesson (but explain later) are packages or libraries. These can be thought as \"extensions\" of Python - collections of code that provide some functionality above the functionality built into the bare Python.  \n",
    "Using these is done by importing the packages by `import <some_package>` and then calling functions from the package `<some_package>.<some_function>` or importing the function directly: `from <some_package> import <some_function>(...)` and calling the function alone, as if it was defined in your code `<some_function>(...)`.  \n",
    "More can be done, but this is as much as you need to know now."
   ]
  },
  {
   "cell_type": "markdown",
   "metadata": {},
   "source": [
    "## Variables  \n",
    "\n",
    "Variables must have names starting with a non-number character, composed of letters, numbers and underscore. Python variables are **dynamically typed**, though later versions of Python allow **typing hints**, using `typing` package. These are useful to make the code more readable, easier to document and catch errors.\n",
    "\n",
    "Of course, anything except for **reserved keywords** can be used as a variable (or function) name.\n",
    "\n",
    "**Naming convention** in Python is to use lowercase letters separated with underscores:"
   ]
  },
  {
   "cell_type": "code",
   "execution_count": 1,
   "metadata": {},
   "outputs": [],
   "source": [
    "some_variable = 1\n",
    "some_other_variable = \"a value\""
   ]
  },
  {
   "cell_type": "markdown",
   "metadata": {},
   "source": [
    "Though, previously, the convention was to use camel case, e.g., `someVariableName = \"a value\"`. The lowercase letters should now be used. However, one might encounter the camel case in some older libraries (e.g., `threading`)."
   ]
  },
  {
   "cell_type": "markdown",
   "metadata": {},
   "source": [
    "Here are naming convention for different elements in Python (don't worry about the keywords for now):"
   ]
  },
  {
   "cell_type": "code",
   "execution_count": 2,
   "metadata": {},
   "outputs": [],
   "source": [
    "GLOBAL_CONSTANT = 1  # global constant should have uppercase letters and underscores\n",
    "\n",
    "def some_function():  # function name should be lowercase letters, separated with underscores\n",
    "    pass  # `pass` is a no-op statement that does nothing.\n",
    "\n",
    "class SomeClass:  # class names should consist of capitalized words without underscores\n",
    "    pass"
   ]
  },
  {
   "cell_type": "markdown",
   "metadata": {},
   "source": [
    "**Dynamic typing** means that the variable can change type during runtime."
   ]
  },
  {
   "cell_type": "code",
   "execution_count": 3,
   "metadata": {},
   "outputs": [],
   "source": [
    "some_variable = 1  # variable type is `int`\n",
    "some_variable = \"a value\"  # variable type is now `str`\n",
    "some_variable = 1.0  # variable type is now `float`\n",
    "some_variable = True  # variable type is now `bool`"
   ]
  },
  {
   "cell_type": "markdown",
   "metadata": {},
   "source": [
    "There is one special type of variable `NoneType` that has only one possible value `None`. That means nothing (in some languages `null`). This is typically used to signify that the variable has not been initialized, yet. It is also the return type of a function that does not explicitly return any other value (a.k.a. **a procedure**) or an error caused the function to fail and \"avoid\" any return statement with explicit value."
   ]
  },
  {
   "cell_type": "code",
   "execution_count": 4,
   "metadata": {},
   "outputs": [],
   "source": [
    "some_variable = None  # variable type is now `NoneType`"
   ]
  },
  {
   "cell_type": "markdown",
   "metadata": {},
   "source": [
    "Although dynamic typing makes programming easier, it is best to avoid, unless it has some additional benefit. Ideally, one would use the `typing` library to declare variable types beforehand and stick to those. Newer Python versions allow typing of **basic types** even **without the `typing` library**, like so:"
   ]
  },
  {
   "cell_type": "code",
   "execution_count": 5,
   "metadata": {},
   "outputs": [],
   "source": [
    "some_integer: int = 1\n",
    "some_string: str = \"a value\"\n",
    "some_float: float = 1.0\n",
    "some_boolean: bool = True\n",
    "some_null_variable: None = None"
   ]
  },
  {
   "cell_type": "markdown",
   "metadata": {},
   "source": [
    "We will introduce advanced typing later on."
   ]
  },
  {
   "cell_type": "markdown",
   "metadata": {},
   "source": [
    "### Multiple assignment\n",
    "\n",
    "For simplicity, you can assign to multiple variables at once. Either the same value by stacking the `=` sings at putting the desired value at the end:"
   ]
  },
  {
   "cell_type": "code",
   "execution_count": 6,
   "metadata": {},
   "outputs": [
    {
     "name": "stdout",
     "output_type": "stream",
     "text": [
      "3\n",
      "3\n",
      "3\n"
     ]
    }
   ],
   "source": [
    "a = b = c = 3\n",
    "\n",
    "print(a)\n",
    "print(b)\n",
    "print(c)"
   ]
  },
  {
   "cell_type": "markdown",
   "metadata": {},
   "source": [
    "Or different values by specifying variables separated by comma on the left-hand side of the equal sign and comma separated values at the right-hand side:"
   ]
  },
  {
   "cell_type": "code",
   "execution_count": 7,
   "metadata": {},
   "outputs": [
    {
     "name": "stdout",
     "output_type": "stream",
     "text": [
      "1\n",
      "a\n",
      "True\n"
     ]
    }
   ],
   "source": [
    "a, b, c = 1, \"a\", True\n",
    "\n",
    "print(a)\n",
    "print(b)\n",
    "print(c)"
   ]
  },
  {
   "cell_type": "markdown",
   "metadata": {},
   "source": [
    "Of course, the number of variables and values must be the same. Normally in Python, it is advised to separate \"one operation to one line\". Thus, multiple assignments on one line should not be \"abused\" and only used where it really makes sense.  \n",
    "Most common use of the multiple assignment is for lists or functions that return multiple values. We will explore these concepts later."
   ]
  },
  {
   "cell_type": "markdown",
   "metadata": {},
   "source": [
    "### Strings\n",
    "\n",
    "Strings are slightly special values. They are enclosed in double or single quotes (`'` and `\"`). The choice of quotes is somewhat arbitrary (guidelines exists). The most important thing is that you can nest quotes but the have to alternate. That is, if you want to have a quoted text stored in a string, you need to use different quotes."
   ]
  },
  {
   "cell_type": "code",
   "execution_count": 8,
   "metadata": {},
   "outputs": [],
   "source": [
    "a_string = \"some string\"\n",
    "a_string_with_quote = 'some string with \"quotes\"'"
   ]
  },
  {
   "cell_type": "markdown",
   "metadata": {},
   "source": [
    "## Arrays (sort of)\n",
    "\n",
    "Python does not have (built-in) arrays similar to the **C** language arrays. It does have what is called `list`, that are similar. It also have a couple of other \"iterable\" data types - `sets` and `tuples`.\n",
    "Additional iterable data types, including ones that are more similar to \"traditional\" arrays, can be a\n",
    "\n",
    "### Lists\n",
    "\n",
    " **List are dynamically typed** as well. And not just the whole list, but each element. Meaning, each list element can have different data type.\n",
    "\n",
    "* lists are defined as collection of values surrounded by square brackets, separated by commas\n",
    "* indexing of lists (and any other iterable) in Python is zero-based\n",
    "* indexing is done using square brackets with \n",
    "* **length** of lists (and many other iterables) can be assessed using `len` function.\n",
    "\n",
    "Here are examples of lists:"
   ]
  },
  {
   "cell_type": "code",
   "execution_count": 9,
   "metadata": {},
   "outputs": [],
   "source": [
    "# empty list\n",
    "some_list = []\n",
    "# list of integers\n",
    "some_list = [1, 2, 3]\n",
    "# list of strings\n",
    "some_list = [\"a\", \"b\", \"c\"]\n",
    "# mixed list\n",
    "some_list = [1, \"a\", True]"
   ]
  },
  {
   "cell_type": "markdown",
   "metadata": {},
   "source": [
    "#### Nested lists  \n",
    "\n",
    "In addition to all other data types, lists can also contain other lists:"
   ]
  },
  {
   "cell_type": "code",
   "execution_count": 13,
   "metadata": {},
   "outputs": [],
   "source": [
    "nested_list = [[1, 2, 3], [4, 5, 6], [7, 8, 9]]\n",
    "mixed_nested_list = [[1, 2, 3], [\"a\", \"b\", \"c\"], [True, False, None]]\n",
    "jagged_list = [[1, 2, 3], [\"a\", \"b\"], True]"
   ]
  },
  {
   "cell_type": "markdown",
   "metadata": {},
   "source": [
    "#### Indexing\n",
    "\n",
    "Python uses zero-based indexing, using square brackets after the list name. Here are a few examples, using the last definition of list from previous cell: `some_list = [1, \"a\", True]`."
   ]
  },
  {
   "cell_type": "code",
   "execution_count": 2,
   "metadata": {},
   "outputs": [
    {
     "name": "stdout",
     "output_type": "stream",
     "text": [
      "1\n",
      "a\n",
      "True\n"
     ]
    }
   ],
   "source": [
    "print(some_list)  # prints `[1, 'a', True]`\n",
    "\n",
    "print(some_list[0])  # prints `1`\n",
    "print(some_list[1])  # prints `a`\n",
    "print(some_list[2])  # prints `True`"
   ]
  },
  {
   "cell_type": "markdown",
   "metadata": {},
   "source": [
    "Indices can be **negative**, indicating that they should be counted from the end of the list. **-1** means \"the first element from the end\", i.e., the last element of the list. **-2** is the second last element, etc."
   ]
  },
  {
   "cell_type": "code",
   "execution_count": 3,
   "metadata": {},
   "outputs": [
    {
     "name": "stdout",
     "output_type": "stream",
     "text": [
      "True\n",
      "a\n",
      "1\n"
     ]
    }
   ],
   "source": [
    "print(some_list[-1])  # prints `True`\n",
    "print(some_list[-2])  # prints `a`\n",
    "print(some_list[-3])  # prints `1`"
   ]
  },
  {
   "cell_type": "markdown",
   "metadata": {},
   "source": [
    "Out of bounds indexing, will, of course, rise an exception:"
   ]
  },
  {
   "cell_type": "code",
   "execution_count": 5,
   "metadata": {},
   "outputs": [
    {
     "name": "stdout",
     "output_type": "stream",
     "text": [
      "Index 3 is out of range!\n"
     ]
    }
   ],
   "source": [
    "try:\n",
    "    print(some_list[3])\n",
    "except IndexError:\n",
    "    print(\"Index 3 is out of range!\")"
   ]
  },
  {
   "cell_type": "markdown",
   "metadata": {},
   "source": [
    "#### Slicing  \n",
    "\n",
    "Multiple list items can be selected using **slice** indexes. **Slices** are indices indicating **start** and **stop** position of the index, separated by colon. For example `[1:3]`, where start=1 and end=3.\n",
    "Optionally, **step** can be added, e.g., [1:3:2], where **step**=2 (default step, when omitted, is 1).  \n",
    "Of course, `start < stop` otherwise no values will be selected (with some exceptions, listed later)."
   ]
  },
  {
   "cell_type": "code",
   "execution_count": 59,
   "metadata": {},
   "outputs": [
    {
     "name": "stdout",
     "output_type": "stream",
     "text": [
      "[1, 2]\n",
      "[]\n",
      "[]\n"
     ]
    }
   ],
   "source": [
    "list_of_numbers = [0, 1, 2, 3, 4, 5, 6, 7, 8, 9]\n",
    "\n",
    "print(list_of_numbers[1:3])  # prints `[1, 2]`\n",
    "print(list_of_numbers[3:1])  # prints empty list, since start > stop\n",
    "print(list_of_numbers[3:3])  # prints empty list, since start == stop"
   ]
  },
  {
   "cell_type": "markdown",
   "metadata": {},
   "source": [
    "*!!! Important note !!!*  \n",
    "**stop** position is excluded from result! As you can see in the previous result, where start=1 and stop=3, the output are numbers at positions 1 and 2 but not 3. That is, the slice selects positions starting with `1` until stop-1, i.e., `2`."
   ]
  },
  {
   "cell_type": "code",
   "execution_count": 25,
   "metadata": {},
   "outputs": [
    {
     "name": "stdout",
     "output_type": "stream",
     "text": [
      "[2]\n"
     ]
    }
   ],
   "source": [
    "print(list_of_numbers[2:3])  # prints only `[2]`, since `stop` position is excluded"
   ]
  },
  {
   "cell_type": "markdown",
   "metadata": {},
   "source": [
    "Beginning and end positions in lists can be omitted. For example `[0:5]` starts indexing from the beginning of the list. However, you do not need to write the zero: the slice `[:5]` does the same thing. Likewise, indexing until the last position can be done like so: `[5:10]` or in general `[5:len(list_of_numbers)]`. A better alternative is to omit the end position, i.e. `[5:]`:"
   ]
  },
  {
   "cell_type": "code",
   "execution_count": 12,
   "metadata": {},
   "outputs": [
    {
     "name": "stdout",
     "output_type": "stream",
     "text": [
      "[0, 1, 2, 3, 4]\n",
      "[0, 1, 2, 3, 4]\n",
      "[5, 6, 7, 8, 9]\n",
      "[5, 6, 7, 8, 9]\n"
     ]
    }
   ],
   "source": [
    "print(list_of_numbers[0:5])  # prints `[0, 1, 2, 3, 4]`\n",
    "print(list_of_numbers[:5])  # also prints `[0, 1, 2, 3, 4]`\n",
    "\n",
    "print(list_of_numbers[5:10])  # prints `[5, 6, 7, 8, 9]`\n",
    "print(list_of_numbers[5:])  # also prints `[5, 6, 7, 8, 9]`"
   ]
  },
  {
   "cell_type": "markdown",
   "metadata": {},
   "source": [
    "Providing no start and stop will output the whole list. On its own in lists, this is useless. However, this notation has some uses in multidimensional arrays, e.g., from numpy. We will talk about these later."
   ]
  },
  {
   "cell_type": "code",
   "execution_count": 14,
   "metadata": {},
   "outputs": [
    {
     "name": "stdout",
     "output_type": "stream",
     "text": [
      "[0, 1, 2, 3, 4, 5, 6, 7, 8, 9]\n",
      "[[1, 2, 3], [4, 5, 6], [7, 8, 9]]\n"
     ]
    }
   ],
   "source": [
    "print(list_of_numbers[:])  # prints `[1, 2, 3, 4, 5, 6, 7, 8, 9, 10]`"
   ]
  },
  {
   "cell_type": "markdown",
   "metadata": {},
   "source": [
    "#### Stepping  \n",
    "\n"
   ]
  },
  {
   "cell_type": "markdown",
   "metadata": {},
   "source": [
    "As previously mentioned, the last optional argument of slice indices is **step**. It indicates the \"distance\" between consecutive positions selected in the range between **start** and **stop** positions.\n",
    "By default, it is 1, meaning all positions are selected. Using a step value of 2, only every other position will be selected:"
   ]
  },
  {
   "cell_type": "code",
   "execution_count": 15,
   "metadata": {},
   "outputs": [
    {
     "name": "stdout",
     "output_type": "stream",
     "text": [
      "[5, 7, 9]\n"
     ]
    }
   ],
   "source": [
    "print(list_of_numbers[5:10:2])  # prints `[5, 7, 9]`"
   ]
  },
  {
   "cell_type": "markdown",
   "metadata": {},
   "source": [
    "You can also omit any of the first two slice arguments (start/stop) which will index from the beginning/end of the list but using the requested step:"
   ]
  },
  {
   "cell_type": "code",
   "execution_count": 18,
   "metadata": {},
   "outputs": [
    {
     "name": "stdout",
     "output_type": "stream",
     "text": [
      "[0, 2, 4]\n",
      "[5, 7, 9]\n",
      "[0, 2, 4, 6, 8]\n"
     ]
    }
   ],
   "source": [
    "print(list_of_numbers[:5:2])  # prints every other element from the beginning until position 5\n",
    "print(list_of_numbers[5::2])  # prints every other element from position 5 until the end\n",
    "print(list_of_numbers[::2])  # prints every other element from the beginning until the end"
   ]
  },
  {
   "cell_type": "markdown",
   "metadata": {},
   "source": [
    "**Negative step** values are valid as well. These indicate \"going\" in reverse. That is, from **start** position, subtracting the step value, until the **stop** position. Of course, negative step value only make sense if `start > stop`."
   ]
  },
  {
   "cell_type": "code",
   "execution_count": 31,
   "metadata": {},
   "outputs": [
    {
     "name": "stdout",
     "output_type": "stream",
     "text": [
      "[]\n",
      "[8, 7, 6]\n"
     ]
    }
   ],
   "source": [
    "print(list_of_numbers[5:8:-1])  # prints empty list, since start < stop and step < 0\n",
    "print(list_of_numbers[8:5:-1])  # prints `[8, 7, 6]` (excludes \"stop\" position 5)"
   ]
  },
  {
   "cell_type": "markdown",
   "metadata": {},
   "source": [
    "As with positive steps, start/stop can be excluded:"
   ]
  },
  {
   "cell_type": "code",
   "execution_count": 50,
   "metadata": {},
   "outputs": [
    {
     "name": "stdout",
     "output_type": "stream",
     "text": [
      "[9, 7, 5, 3, 1]\n",
      "[9, 8, 7, 6, 5, 4, 3, 2, 1, 0]\n",
      "[5, 4, 3, 2, 1, 0]\n",
      "[9, 8, 7, 6]\n"
     ]
    }
   ],
   "source": [
    "print(list_of_numbers[::-2])  # every other element from the end until the beginning\n",
    "print(list_of_numbers[::-1])  # the whole list in reverse order\n",
    "print(list_of_numbers[5::-1])  # from 5th position until the end (actually start) in reverse order\n",
    "print(list_of_numbers[:5:-1])  # from the beginning (actually end) until 5th position in reverse order"
   ]
  },
  {
   "cell_type": "markdown",
   "metadata": {},
   "source": [
    "As you can see from the last examples, **when step is negative**, omission of start/end does not behave \"naturally\". When both **start and stop are omitted**, the selection does not go from the first to last position of the list but in reverse - from last to first position.  \n",
    "If you **only provide start position** and omit the stop, the selection will go from start position, until the beginning of the list (and not end, since that would result in an empty selection).  \n",
    "Similarly, if you **only provide stop position** and omit the start, the selection will go from the end of the list until the stop position. In line with the previous cases, **stop** is always excluded (but start isn't)."
   ]
  },
  {
   "cell_type": "markdown",
   "metadata": {},
   "source": [
    "#### Assigning values to list elements\n",
    "\n",
    "Modifying elements of the list is very simple. You just index the element you want to change and assign a value to it. Since lists are dynamically typed, it does not need to be of the same type."
   ]
  },
  {
   "cell_type": "code",
   "execution_count": 92,
   "metadata": {},
   "outputs": [
    {
     "name": "stdout",
     "output_type": "stream",
     "text": [
      "Recap what we have in our list: [10, 'two', 'two', 'three', 'four', 'five', 'six', 'seven', 'eight', 'nine']\n",
      "Modified list: [10, 'one', 'two', 'three', 'four', 'five', 'six', 'seven', 'eight', 'nine']\n"
     ]
    }
   ],
   "source": [
    "print(\"Recap what we have in our list:\", list_of_numbers)\n",
    "\n",
    "# modify the second element of the list (remember, zero-indexed)\n",
    "list_of_numbers[1] = \"one\"\n",
    "print(\"Modified list:\", list_of_numbers)"
   ]
  },
  {
   "cell_type": "markdown",
   "metadata": {},
   "source": [
    "By using slice index, you can modify multiple items at once. You have to assign exactly as many values, are you indexed, otherwise an error will be thrown."
   ]
  },
  {
   "cell_type": "code",
   "execution_count": 104,
   "metadata": {},
   "outputs": [
    {
     "name": "stdout",
     "output_type": "stream",
     "text": [
      "['zero', 'one', 'two', 'three', 'four', 'five', 'six', 'seven', 'eight', 'nine']\n",
      "['zero', 'one', 'two', 'three', 'four', 'five', 'six', 'seven', 'eight', 'nine']\n",
      "Number of elements indexed by the slice [5::2] =  3\n",
      "['zero', 'one', 'two', 'three', 'four', 'five', 'six', 'seven', 'eight', 'nine']\n",
      "['zero', 'one', 'two', 'three', 'four', 'five', 'six', 'seven', 'eight', 'nine']\n"
     ]
    }
   ],
   "source": [
    "list_of_numbers[:1] = [\"zero\"]\n",
    "print(list_of_numbers)\n",
    "\n",
    "list_of_numbers[2:5] = [\"two\", \"three\", \"four\"]\n",
    "print(list_of_numbers)\n",
    "\n",
    "print(\"Number of elements indexed by the slice [5::2] = \", len(list_of_numbers[5::2]))  # we need to provide 3 values\n",
    "list_of_numbers[5::2] = [\"five\", \"seven\", \"nine\"]  # from position 5 until the end, in steps of 2\n",
    "print(list_of_numbers)\n",
    "\n",
    "list_of_numbers[-2:5:-2] = [\"eight\", \"six\"]  # reverse order, since we are going backwards\n",
    "print(list_of_numbers)"
   ]
  },
  {
   "cell_type": "markdown",
   "metadata": {},
   "source": [
    "You can also assign from list elements to variable(s). This is similar to multiple assignment (mentioned in the *Variables* section). Again, you need to provide exactly as many variables as is the number of elements in the list or elements selected by the index (slice)."
   ]
  },
  {
   "cell_type": "code",
   "execution_count": 94,
   "metadata": {},
   "outputs": [
    {
     "name": "stdout",
     "output_type": "stream",
     "text": [
      "10\n",
      "one two three\n"
     ]
    }
   ],
   "source": [
    "a = list_of_numbers[0]\n",
    "print(a)\n",
    "\n",
    "a, b, c = list_of_numbers[1:4]\n",
    "print(a, b, c)"
   ]
  },
  {
   "cell_type": "markdown",
   "metadata": {},
   "source": [
    "You can also assign between two array. Again, all indexing can be used but number of (selected) elements on both sides must be equal."
   ]
  },
  {
   "cell_type": "code",
   "execution_count": 102,
   "metadata": {},
   "outputs": [
    {
     "name": "stdout",
     "output_type": "stream",
     "text": [
      "[10, 2, 3, 4, 5]\n",
      "[10, 'four', 'three', 'two', 5]\n",
      "[10, 'two', 'three', 'four', 5]\n"
     ]
    }
   ],
   "source": [
    "my_other_list = [1, 2, 3, 4, 5]\n",
    "\n",
    "my_other_list[0] = list_of_numbers[0]  # exchange the first element\n",
    "print(my_other_list)\n",
    "\n",
    "my_other_list[1:4] = list_of_numbers[4:1:-1]\n",
    "print(my_other_list)\n",
    "\n",
    "my_other_list[3:0:-1] = list_of_numbers[4:1:-1]  # this is actually ugly, don't do it, just for educational purposes\n",
    "print(my_other_list)"
   ]
  },
  {
   "cell_type": "markdown",
   "metadata": {},
   "source": [
    "#### Indexing shenanigans  \n",
    "\n",
    "There is much more that can be done with indexing and slices. Later, when using more advanced structures, e.g., NumPy arrays, you will learn multidimensional indexing, broadcasting and much more.  \n",
    "However, even with lists, indexing can be quite complex. You can mix and match various slicing schemes, such as using positive and negative values together. Below is a small illustrative showcase.  \n",
    "Please, under normal conditions, try to make indexing as sensible as possible (i.e., examples below are actually not necessarily good examples)."
   ]
  },
  {
   "cell_type": "code",
   "execution_count": 52,
   "metadata": {},
   "outputs": [
    {
     "name": "stdout",
     "output_type": "stream",
     "text": [
      "[6, 7, 8]\n",
      "[6, 7]\n",
      "[6, 7, 8, 9]\n",
      "[6, 7, 8]\n",
      "[6, 5, 4, 3, 2, 1, 0]\n"
     ]
    }
   ],
   "source": [
    "print(list_of_numbers[6:-1])  # from position 6 until the end (last positions)\n",
    "print(list_of_numbers[6:-2])  # from position 6 until the second last position\n",
    "print(list_of_numbers[-4:])  # from the fourth last position until the end\n",
    "print(list_of_numbers[-4:9])  # from the 4th last position until 9th position (excluding)\n",
    "print(list_of_numbers[-4::-1])  # from the 4th last position until the beginning in reverse order"
   ]
  },
  {
   "cell_type": "markdown",
   "metadata": {},
   "source": [
    "#### Practical indexing  \n",
    "\n",
    "In most practical code, indexing is rarely direct (i.e., by specific numbers), with the exception of first and last positions or very small lists predetermined structure (in which case, lists are actually the wrong data type).  \n",
    "Rather, one typically substitute the numbers with variables:"
   ]
  },
  {
   "cell_type": "code",
   "execution_count": 53,
   "metadata": {},
   "outputs": [
    {
     "name": "stdout",
     "output_type": "stream",
     "text": [
      "3\n"
     ]
    }
   ],
   "source": [
    "my_index = 3\n",
    "print(list_of_numbers[my_index])  # prints `3`"
   ]
  },
  {
   "cell_type": "markdown",
   "metadata": {},
   "source": [
    "Of course, in practice, you won't specify the value of `my_index` directly either. Typically, you would somehow compute the value.  \n",
    "Nonetheless, you can use variables for all parts of the indexing slice:"
   ]
  },
  {
   "cell_type": "code",
   "execution_count": 54,
   "metadata": {},
   "outputs": [
    {
     "name": "stdout",
     "output_type": "stream",
     "text": [
      "[2, 4]\n"
     ]
    }
   ],
   "source": [
    "my_start = 2\n",
    "my_stop = 6\n",
    "my_step = 2\n",
    "\n",
    "print(list_of_numbers[my_start:my_stop:my_step])  # prints `[2, 4]`"
   ]
  },
  {
   "cell_type": "markdown",
   "metadata": {},
   "source": [
    "#### List functions  \n",
    "\n",
    "To support you on your quest, lists also provide a handful of built-in functions. These are mostly methods of the list built-in class. There are, however, a few external functions that also work on most iterables.\n",
    "\n",
    "Probably most important is appending new values to a list. This is done using the `append` method of the list:"
   ]
  },
  {
   "cell_type": "code",
   "execution_count": 64,
   "metadata": {},
   "outputs": [
    {
     "name": "stdout",
     "output_type": "stream",
     "text": [
      "[1, 2, 3]\n",
      "[1, 2, 3, 4]\n"
     ]
    }
   ],
   "source": [
    "a_list = [1, 2, 3]\n",
    "print(a_list)\n",
    "\n",
    "a_list.append(4)\n",
    "print(a_list)"
   ]
  },
  {
   "cell_type": "markdown",
   "metadata": {},
   "source": [
    "Keep in mind, however, that appending items one-by-one is relatively slow. Later on, we will use faster ways to fill/compute list values (these are called *list comprehensions*).\n",
    "\n",
    "If you have multiple lists, you can merge them or extend one by another:"
   ]
  },
  {
   "cell_type": "code",
   "execution_count": 65,
   "metadata": {},
   "outputs": [
    {
     "name": "stdout",
     "output_type": "stream",
     "text": [
      "[1, 2, 3, 4, 5, 6, 7]\n",
      "[1, 2, 3, 4, 5, 6, 7]\n"
     ]
    }
   ],
   "source": [
    "b_list = [5, 6, 7]\n",
    "\n",
    "c_list = a_list + b_list  # combines `a_list` and `b_list`, stores the result in `c_list`\n",
    "print(c_list)\n",
    "\n",
    "a_list.extend(b_list)  # modifies `a_list`, merging `b_list` into it\n",
    "print(a_list)"
   ]
  },
  {
   "cell_type": "markdown",
   "metadata": {},
   "source": [
    "Getting the **length of a list** is also quite important. To do that, use `len` function:"
   ]
  },
  {
   "cell_type": "code",
   "execution_count": 67,
   "metadata": {},
   "outputs": [
    {
     "name": "stdout",
     "output_type": "stream",
     "text": [
      "7\n"
     ]
    }
   ],
   "source": [
    "print(len(a_list))"
   ]
  },
  {
   "cell_type": "markdown",
   "metadata": {},
   "source": [
    "There are other list methods, most useful ones are listed here:"
   ]
  },
  {
   "cell_type": "code",
   "execution_count": 66,
   "metadata": {},
   "outputs": [
    {
     "name": "stdout",
     "output_type": "stream",
     "text": [
      "1\n",
      "2\n",
      "['one', 'two', 'two', 'three']\n",
      "['one', 'two', 'three']\n",
      "['three', 'two', 'one']\n",
      "['one', 'three', 'two']\n"
     ]
    }
   ],
   "source": [
    "print(list_of_numbers.count(2))  # count the number of occurrences of `2`\n",
    "print(list_of_numbers.index(2))  # find the index of the first occurrence of `2`\n",
    "\n",
    "text_list = [\"one\", \"two\", \"two\", \"three\"]\n",
    "print(text_list)\n",
    "# remove the first occurrence of `two`\n",
    "text_list.remove(\"two\")\n",
    "print(text_list)\n",
    "\n",
    "# reverse the list\n",
    "text_list.reverse()\n",
    "print(text_list)\n",
    "\n",
    "# sort the list (alphabetically, since it contains strings)\n",
    "text_list.sort()\n",
    "print(text_list)"
   ]
  },
  {
   "cell_type": "markdown",
   "metadata": {},
   "source": [
    "#### Super special functions  \n",
    "\n",
    "There are a few special functions:\n",
    "* `sorted`  \n",
    "* `reversed`  \n",
    "\n",
    "They can be applied to lists and the return sorted and reversed lists, respectively. However, `reversed` does not return a list. It return a special object that can be iterated over by a loop, more on that later. Alternatively, you can convert it back to list by calling the `list()` function on them.\n",
    "The `sorted` function accepts a sorting condition and there are some other nuances but let's leave them now."
   ]
  },
  {
   "cell_type": "code",
   "execution_count": 112,
   "metadata": {},
   "outputs": [
    {
     "name": "stdout",
     "output_type": "stream",
     "text": [
      "['eight', 'five', 'four', 'nine', 'one', 'seven', 'six', 'three', 'two', 'zero']\n",
      "<list_reverseiterator object at 0x7fa95904eb90>\n",
      "['nine', 'eight', 'seven', 'six', 'five', 'four', 'three', 'two', 'one', 'zero']\n"
     ]
    }
   ],
   "source": [
    "sorted_list = sorted(list_of_numbers)\n",
    "print(sorted_list)\n",
    "reversed_list = reversed(list_of_numbers)\n",
    "print(reversed_list)\n",
    "print(list(reversed_list))"
   ]
  },
  {
   "cell_type": "markdown",
   "metadata": {},
   "source": [
    "### Tuples  \n",
    "\n",
    "Tuples, like lists, are collections of values. They are defined by parentheses, with elements separated by commas. If you need a single element tuple, you need to add coma after the element, before the closing parenthesis (otherwise Python assumes you just used the parentheses to denote operator precedence and basically \"removes\" the parentheses).\n",
    "You can also convert a list (or set, introduced below) to tuple using the `tuple` function."
   ]
  },
  {
   "cell_type": "code",
   "execution_count": 121,
   "metadata": {},
   "outputs": [
    {
     "name": "stdout",
     "output_type": "stream",
     "text": [
      "('zero', 'one', 'two', 'three', 'four', 'five', 'six', 'seven', 'eight', 'nine')\n"
     ]
    }
   ],
   "source": [
    "my_tuple = (1, 2, 3)\n",
    "my_single_element_tuple = (1,)\n",
    "\n",
    "print(tuple(list_of_numbers))"
   ]
  },
  {
   "cell_type": "markdown",
   "metadata": {},
   "source": [
    "\n",
    "Tuples are in many ways similar to lists. The main difference is that tuples, unlike lists, are **immutable**.  \n",
    "In case you are not familiar with \"mutability\": immutable, as in \"cannot be mutated\", i.e., changed. Immutable variables cannot be changed. You can change the value of the variable completely but no **in-place** operations can be performed. The values of **mutable** variables can be changed in place. In plain terms, this means that since list is mutable, you can change individual elements of a list. Tuples are immutable, which means you cannot change individual elements. You can **only replace tuple** stored in a variable with a completely new tuple.\n",
    "\n",
    "The main use of this immutability is when you need to be sure that no function can replace individual elements. For example, if you provide a list as an argument to a function, that function can modify the list, without \"notifying\" you. Meaning, the value referenced by a variable will change without any assignment in your code. For tuples, this can't happen.\n",
    "\n",
    "I'll provide an example, don't worry about the specifics:"
   ]
  },
  {
   "cell_type": "code",
   "execution_count": 72,
   "metadata": {},
   "outputs": [
    {
     "name": "stdout",
     "output_type": "stream",
     "text": [
      "List before calling the sneaky function: [1, 2, 3]\n",
      "Result of the function call: 4\n",
      "List after calling the sneaky function: [1, 2, 'two', 4]\n",
      "The function is not able to modify a tuple.\n"
     ]
    }
   ],
   "source": [
    "def sneaky_input_modifying_function(input_iterable):\n",
    "    input_iterable[2] = \"two\"\n",
    "    input_iterable.append(4)\n",
    "\n",
    "    return len(input_iterable)\n",
    "\n",
    "test_list = [1, 2, 3]\n",
    "print(\"List before calling the sneaky function:\", test_list)\n",
    "result = sneaky_input_modifying_function(test_list)\n",
    "\n",
    "print(\"Result of the function call:\", result)\n",
    "print(\"List after calling the sneaky function:\", test_list)\n",
    "\n",
    "try:\n",
    "    test_tuple = (1, 2, 3)\n",
    "    sneaky_input_modifying_function(test_tuple)\n",
    "except TypeError:\n",
    "    print(\"The function is not able to modify a tuple.\")"
   ]
  },
  {
   "cell_type": "markdown",
   "metadata": {},
   "source": [
    "In the code above, we created \"a sneaky function\" that returns the length of the input list but it also does some modification on the input. Sometimes, this might be what you want but sometimes, you don't want this kind of modification.\n",
    "If we use tuple as an input for the function, it actually throws an error (caught by that `except` statement, more on that later) and prints our error message."
   ]
  },
  {
   "cell_type": "markdown",
   "metadata": {},
   "source": [
    "The other important feature of tuples is that they can be more efficient. This is because they are immutable and thus there is a little less \"overhead\" when handling them (a simple way of thinking about it is that Python \"knows for sure\" where each element will be)."
   ]
  },
  {
   "cell_type": "markdown",
   "metadata": {},
   "source": [
    "#### Operations with tuples  \n",
    "\n",
    "Most operations that work with lists, except in-place modifications, can be also used with tuples. Therefore, I will not go into detail, only list a few important cases:"
   ]
  },
  {
   "cell_type": "code",
   "execution_count": 114,
   "metadata": {},
   "outputs": [
    {
     "name": "stdout",
     "output_type": "stream",
     "text": [
      "5\n",
      "1\n",
      "5\n",
      "(1, 2, 3)\n",
      "(1, 2, 3)\n",
      "(4, 5)\n",
      "(4, 5)\n",
      "(3, 5)\n"
     ]
    }
   ],
   "source": [
    "my_tuple = (1, 2, 3, 4, 5)\n",
    "\n",
    "# length of the tuple\n",
    "print(len(my_tuple))  # prints `5`\n",
    "\n",
    "# basic indexing\n",
    "print(my_tuple[0])  # prints `1`\n",
    "print(my_tuple[-1])  # prints `5`\n",
    "\n",
    "# slicing\n",
    "print(my_tuple[0:3])  # prints `(1, 2, 3)`, since `stop` position is excluded\n",
    "print(my_tuple[:3])  # also prints `(1, 2, 3)`\n",
    "print(my_tuple[3:5])  # prints `(4, 5)`\n",
    "print(my_tuple[3:])  # also prints `(4, 5)`\n",
    "\n",
    "# slicing with steps\n",
    "print(my_tuple[2:5:2])  # prints `(3, 5)`"
   ]
  },
  {
   "cell_type": "markdown",
   "metadata": {},
   "source": [
    "Also, some functions are supported:"
   ]
  },
  {
   "cell_type": "code",
   "execution_count": 120,
   "metadata": {},
   "outputs": [
    {
     "name": "stdout",
     "output_type": "stream",
     "text": [
      "2\n",
      "1\n",
      "[1, 2, 2, 3, 3, 4]\n",
      "<reversed object at 0x7fa959c7ff40>\n",
      "(4, 2, 3, 3, 2, 1)\n"
     ]
    }
   ],
   "source": [
    "my_tuple = (1, 2, 3, 3, 2, 4)\n",
    "\n",
    "print(my_tuple.count(3))  # count the number of occurrences of `3`\n",
    "\n",
    "print(my_tuple.index(2))  # find the index of the first occurrence of `2`\n",
    "\n",
    "print(sorted(my_tuple))  # sort the tuple\n",
    "\n",
    "print(reversed(my_tuple))  # reverse the tuple\n",
    "print(tuple(reversed(my_tuple)))  # reverse the tuple"
   ]
  },
  {
   "cell_type": "markdown",
   "metadata": {},
   "source": [
    "### Sets  \n",
    "\n",
    "Sets are kinds like lists but they contain only one occurrence of each value. That is, adding the same value multiple times to the set will result in the set containing the value only once.\n",
    "\n",
    "Sets are defined using braces (curly brackets), with elements delimited by commas. Alternatively, you can convert a list or a tuple to set by using the `set()` function. Sets are, however, not orderer. Therefore, whether defining anew or converting from a list, the order of the elements is not necessarily kept. Keep this in mind."
   ]
  },
  {
   "cell_type": "code",
   "execution_count": 123,
   "metadata": {},
   "outputs": [
    {
     "name": "stdout",
     "output_type": "stream",
     "text": [
      "{1, 2, 3}\n",
      "{1, 2, 3}\n",
      "{'nine', 'four', 'three', 'five', 'eight', 'two', 'one', 'zero', 'seven', 'six'}\n"
     ]
    }
   ],
   "source": [
    "my_set = {1, 2, 3}\n",
    "print(my_set)\n",
    "my_set = {1, 2, 3, 3}\n",
    "print(my_set)  # only the first occurrence of `3` is kept\n",
    "\n",
    "print(set(list_of_numbers))"
   ]
  },
  {
   "cell_type": "markdown",
   "metadata": {},
   "source": [
    "You can add elements using the `add` method or remove them using the `remove` method."
   ]
  },
  {
   "cell_type": "code",
   "execution_count": 124,
   "metadata": {},
   "outputs": [
    {
     "name": "stdout",
     "output_type": "stream",
     "text": [
      "{1, 2, 3, 4}\n",
      "{1, 2, 3, 4}\n",
      "{2, 3, 4}\n"
     ]
    }
   ],
   "source": [
    "my_set.add(4)\n",
    "print(my_set)\n",
    "\n",
    "my_set.add(3)  # adding 3 does nothing, since it already is in the set\n",
    "print(my_set)\n",
    "\n",
    "my_set.remove(1)\n",
    "print(my_set)"
   ]
  },
  {
   "cell_type": "markdown",
   "metadata": {},
   "source": [
    "Sets can be compared to each other, unions and intersections can be computed and a few other set operations are supported, using the set object **methods**. I leave these to explore by the reader alone."
   ]
  },
  {
   "cell_type": "markdown",
   "metadata": {},
   "source": [
    "## Operations with values and variables  \n",
    "\n",
    "Python supports some basic operations: +,-,*,/, etc. These can work over direct values or variables. Some of these operators are also defined over iterable data types."
   ]
  },
  {
   "cell_type": "markdown",
   "metadata": {},
   "source": [
    "### Mathematical operations\n",
    "\n",
    "Here is a list of basic math operations:"
   ]
  },
  {
   "cell_type": "code",
   "execution_count": 127,
   "metadata": {},
   "outputs": [
    {
     "name": "stdout",
     "output_type": "stream",
     "text": [
      "7\n",
      "-1\n",
      "12\n",
      "1.3333333333333333\n",
      "1\n",
      "3\n",
      "9\n",
      "81\n"
     ]
    }
   ],
   "source": [
    "a, b, c = 3, 4, 5\n",
    "\n",
    "print(a + b)\n",
    "print(a - b)\n",
    "print(a * b)\n",
    "print(b / a)\n",
    "print(b // a)  # integer division, only the \"floored\" part is returned\n",
    "print(a % b)  # modulo or remainder of the division\n",
    "print(a**2)  # squaring\n",
    "print(a**b)  # exponentiation"
   ]
  },
  {
   "cell_type": "markdown",
   "metadata": {},
   "source": [
    "Variables can also be compared, using the standard mathematical comparison operators. Two important comparisons: **equal** is denoted by two equal signs `==`. Keep this in mind, since single equal sign means an assignment. **Not equal** in Python is denoted as `!=`."
   ]
  },
  {
   "cell_type": "code",
   "execution_count": 128,
   "metadata": {},
   "outputs": [
    {
     "name": "stdout",
     "output_type": "stream",
     "text": [
      "True\n",
      "False\n",
      "True\n",
      "False\n",
      "False\n",
      "True\n"
     ]
    }
   ],
   "source": [
    "print(a < b)\n",
    "print(a > b)\n",
    "print(a <= b)\n",
    "print(a >= b)\n",
    "print(a == b)\n",
    "print(a != b)"
   ]
  },
  {
   "cell_type": "markdown",
   "metadata": {},
   "source": [
    "### String operations\n",
    "\n",
    "The operators above can be also used with non-numerical values. For example, with strings:"
   ]
  },
  {
   "cell_type": "code",
   "execution_count": 2,
   "metadata": {},
   "outputs": [
    {
     "name": "stdout",
     "output_type": "stream",
     "text": [
      "String operations:\n",
      "string\n",
      "hahaha\n",
      "Comparison:\n",
      "True\n",
      "False\n",
      "True\n",
      "False\n",
      "False\n",
      "True\n"
     ]
    }
   ],
   "source": [
    "print(\"String operations:\")\n",
    "print(\"str\" + \"ing\")  # concatenation\n",
    "\n",
    "print(\"ha\" * 3)  # repeats the string 3 times\n",
    "\n",
    "print(\"\\nComparison:\")\n",
    "print(\"alpha\" < \"beta\")  # alphabetical order\n",
    "print(\"alpha\" > \"beta\")  # alphabetical order\n",
    "print(\"a\" <= \"b\")  # alphabetical order\n",
    "print(\"a\" >= \"b\")  # alphabetical order\n",
    "\n",
    "print(\"a\" == \"A\")  # equality\n",
    "print(\"a\" != \"b\")  # inequality"
   ]
  },
  {
   "cell_type": "markdown",
   "metadata": {},
   "source": [
    "### List operations\n",
    "\n",
    "You can also do some operations with lists. These can be done also with list methods but sometimes, doing it via basic operators is more convenient. For example, extending a list can be done using the `extend` method `list_1.extend(list_2)` or using the `+` operator `list_out = list_1 + list_2`. As you can see here, the difference is that in the first case it is an **in-place** operations (`list_1` is directly modified) while in the second case, the addition simply produces a new list."
   ]
  },
  {
   "cell_type": "code",
   "execution_count": 3,
   "metadata": {},
   "outputs": [
    {
     "name": "stdout",
     "output_type": "stream",
     "text": [
      "List operations:\n",
      "[1, 2, 3, 4, 5, 6]\n",
      "[1, 2, 3, 1, 2, 3, 1, 2, 3]\n",
      "\n",
      "Comparison:\n",
      "False\n",
      "True\n",
      "\n",
      "Ordering:\n",
      "True\n",
      "False\n",
      "True\n",
      "False\n"
     ]
    }
   ],
   "source": [
    "list_a = [1, 2, 3]\n",
    "list_b = [4, 5, 6]\n",
    "\n",
    "print(\"List operations:\")\n",
    "print(list_a + list_b)  # concatenation\n",
    "print(list_a * 3)  # repeats the list 3 times\n",
    "\n",
    "# comparison\n",
    "print(\"\\nComparison:\")\n",
    "print(list_a == list_b)  # equality\n",
    "print(list_a != list_b)  # inequality\n",
    "\n",
    "print(\"\\nOrdering:\")\n",
    "print(list_a < list_b)\n",
    "print(list_a > list_b)\n",
    "print(list_a <= list_b)\n",
    "print(list_a >= list_b)"
   ]
  },
  {
   "cell_type": "markdown",
   "metadata": {},
   "source": [
    "### Tuples and sets  \n",
    "\n",
    "Similar operations as with lists, can be done on tuples and sets."
   ]
  },
  {
   "cell_type": "code",
   "execution_count": 16,
   "metadata": {},
   "outputs": [
    {
     "name": "stdout",
     "output_type": "stream",
     "text": [
      "Set operations:\n",
      "{1, 2, 3, 4, 5}\n",
      "{3}\n",
      "{1, 2}\n",
      "{1, 2, 4, 5}\n",
      "\n",
      "Comparison:\n",
      "False\n",
      "True\n",
      "\n",
      "Inclusion:\n",
      "False\n",
      "True\n",
      "True\n",
      "True\n",
      "True\n"
     ]
    }
   ],
   "source": [
    "set_a = {1, 2, 3}\n",
    "set_b = {3, 4, 5}\n",
    "\n",
    "print(\"Set operations:\")\n",
    "print(set_a | set_b)  # union\n",
    "print(set_a & set_b)  # intersection\n",
    "print(set_a - set_b)  # difference\n",
    "print(set_a ^ set_b)  # symmetric difference\n",
    "\n",
    "# comparison\n",
    "print(\"\\nComparison:\")\n",
    "print(set_a == set_b)  # equality\n",
    "print(set_a != set_b)  # inequality\n",
    "\n",
    "print(\"\\nInclusion:\")\n",
    "print({1, 2, 3} < {1, 2, 3})  # is left-hand a subset of the right-hand side?\n",
    "print({2, 3} < {1, 2, 3})  # is left-hand a subset of the right-hand side?\n",
    "print({0} > set())  # set() produces an empty set, which is a subset of all sets\n",
    "\n",
    "print({1, 2, 3} <= {1, 2, 3})  # is left-hand a subset of or equal to the right-hand side?\n",
    "print(set() >= set())  # is right-hand a subset of or equal to the left-hand side?"
   ]
  },
  {
   "cell_type": "code",
   "execution_count": 4,
   "metadata": {},
   "outputs": [
    {
     "name": "stdout",
     "output_type": "stream",
     "text": [
      "Tuple operations:\n",
      "(1, 2, 3, 4, 5, 6)\n",
      "(1, 2, 3, 1, 2, 3, 1, 2, 3)\n",
      "\n",
      "Comparison:\n",
      "False\n",
      "True\n"
     ]
    }
   ],
   "source": [
    "tuple_a = (1, 2, 3)\n",
    "tuple_b = (4, 5, 6)\n",
    "\n",
    "print(\"Tuple operations:\")\n",
    "print(tuple_a + tuple_b)  # concatenation\n",
    "print(tuple_a * 3)  # repeats the tuple 3 times\n",
    "\n",
    "# comparison\n",
    "print(\"\\nComparison:\")\n",
    "print(tuple_a == tuple_b)  # equality\n",
    "print(tuple_a != tuple_b)  # inequality"
   ]
  },
  {
   "cell_type": "markdown",
   "metadata": {},
   "source": [
    "## Generally useful functions"
   ]
  },
  {
   "cell_type": "markdown",
   "metadata": {},
   "source": [
    "### Logical operators and inclusion\n",
    "\n",
    "Of course, in addition to the basic operators, Python has also logical operators (mostly useful for writing conditions). These are `and`, `or` and `not`."
   ]
  },
  {
   "cell_type": "code",
   "execution_count": null,
   "metadata": {},
   "outputs": [],
   "source": [
    "print(True and True)\n",
    "print(\"a\" == \"b\" and \"c\" == \"d\")\n",
    "print(\"a\" == \"b\" or \"c\" == \"d\")\n",
    "\n"
   ]
  },
  {
   "cell_type": "markdown",
   "metadata": {},
   "source": [
    "There is also an inclusion operator `in` and exclusion operator `not in`. These are used to check if a value is or isn't present in a list, string, tuple or set. Some other objects might also support the `in` operator. We will learn about this later."
   ]
  },
  {
   "cell_type": "code",
   "execution_count": 18,
   "metadata": {},
   "outputs": [
    {
     "name": "stdout",
     "output_type": "stream",
     "text": [
      "True\n",
      "True\n",
      "True\n",
      "True\n"
     ]
    }
   ],
   "source": [
    "print(\"a\" in [\"a\", \"b\", \"c\"])\n",
    "print(\"d\" not in [\"a\", \"b\", \"c\"])\n",
    "\n",
    "print(\"a\" in \"abc\")\n",
    "print(\"d\" not in \"abc\")"
   ]
  }
 ],
 "metadata": {
  "kernelspec": {
   "display_name": "py10",
   "language": "python",
   "name": "python3"
  },
  "language_info": {
   "codemirror_mode": {
    "name": "ipython",
    "version": 3
   },
   "file_extension": ".py",
   "mimetype": "text/x-python",
   "name": "python",
   "nbconvert_exporter": "python",
   "pygments_lexer": "ipython3",
   "version": "3.10.9"
  }
 },
 "nbformat": 4,
 "nbformat_minor": 2
}
